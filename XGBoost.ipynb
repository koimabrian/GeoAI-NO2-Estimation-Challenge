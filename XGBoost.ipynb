{
  "nbformat": 4,
  "nbformat_minor": 0,
  "metadata": {
    "colab": {
      "provenance": [],
      "gpuType": "T4",
      "authorship_tag": "ABX9TyMuUCa73ES+xgMRcaCmlOxU",
      "include_colab_link": true
    },
    "kernelspec": {
      "name": "python3",
      "display_name": "Python 3"
    },
    "language_info": {
      "name": "python"
    },
    "accelerator": "GPU"
  },
  "cells": [
    {
      "cell_type": "markdown",
      "metadata": {
        "id": "view-in-github",
        "colab_type": "text"
      },
      "source": [
        "<a href=\"https://colab.research.google.com/github/koimabrian/GeoAI-NO2-Estimation-Challenge/blob/main/XGBoost.ipynb\" target=\"_parent\"><img src=\"https://colab.research.google.com/assets/colab-badge.svg\" alt=\"Open In Colab\"/></a>"
      ]
    },
    {
      "cell_type": "code",
      "source": [
        "from google.colab import drive\n",
        "drive.mount('/content/drive')"
      ],
      "metadata": {
        "colab": {
          "base_uri": "https://localhost:8080/"
        },
        "id": "uIcrxs_Y9FYs",
        "outputId": "b1957984-f929-42a8-82c3-07f26b239589"
      },
      "execution_count": null,
      "outputs": [
        {
          "output_type": "stream",
          "name": "stdout",
          "text": [
            "Mounted at /content/drive\n"
          ]
        }
      ]
    },
    {
      "cell_type": "code",
      "source": [
        "import pandas as pd\n",
        "import numpy as np\n",
        "from sklearn.model_selection import train_test_split\n",
        "import xgboost as xgb\n",
        "from sklearn.ensemble import RandomForestRegressor\n",
        "from sklearn.metrics import mean_squared_error\n",
        "\n",
        "# Assuming the path to your data and loading it\n",
        "path = '/content/drive/MyDrive/Colab Notebooks/zindi/GeoAI/'\n",
        "train_data = pd.read_csv(path + 'Train.csv')\n",
        "test_data = pd.read_csv(path + 'Test.csv')\n"
      ],
      "metadata": {
        "id": "YsGgOWjFPwKY"
      },
      "execution_count": null,
      "outputs": []
    },
    {
      "cell_type": "code",
      "source": [
        "print(train_data.describe())"
      ],
      "metadata": {
        "colab": {
          "base_uri": "https://localhost:8080/"
        },
        "id": "IvWnPBxYW58N",
        "outputId": "b43567df-e1be-4bb0-8b1a-05c4229f1752"
      },
      "execution_count": null,
      "outputs": [
        {
          "output_type": "stream",
          "name": "stdout",
          "text": [
            "                LAT           LON  Precipitation           LST           AAI  \\\n",
            "count  86584.000000  86584.000000   86584.000000  46798.000000  73709.000000   \n",
            "mean      45.421456     10.014272       2.585528    299.268841     -1.274999   \n",
            "std        0.225409      1.056637       7.617394     10.927167      0.693003   \n",
            "min       44.924694      8.736497       0.000000    253.200000     -5.196266   \n",
            "25%       45.249544      9.195325       0.000000    290.920000     -1.749425   \n",
            "50%       45.478996      9.611738       0.000000    300.760000     -1.349746   \n",
            "75%       45.601232     10.683357       0.000000    307.940000     -0.878857   \n",
            "max       45.889734     12.590682     135.396805    327.840000      2.143020   \n",
            "\n",
            "       CloudFraction     NO2_strat     NO2_total      NO2_trop  \\\n",
            "count   73709.000000  73709.000000  73709.000000  51111.000000   \n",
            "mean        0.200606      0.000045      0.000156      0.000105   \n",
            "std         0.259607      0.000012      0.000103      0.000092   \n",
            "min         0.000000      0.000013     -0.000012     -0.000025   \n",
            "25%         0.023900      0.000034      0.000100      0.000047   \n",
            "50%         0.078478      0.000047      0.000122      0.000071   \n",
            "75%         0.278451      0.000056      0.000173      0.000129   \n",
            "max         1.000000      0.000073      0.002047      0.001097   \n",
            "\n",
            "       TropopausePressure        GT_NO2  \n",
            "count        73709.000000  82051.000000  \n",
            "mean         16655.112392     24.535051  \n",
            "std           3000.748790     17.108838  \n",
            "min           8614.349685      0.000000  \n",
            "25%          14432.114060     11.875000  \n",
            "50%          16711.190570     20.000000  \n",
            "75%          19252.648570     33.050000  \n",
            "max          24449.007150    188.233333  \n"
          ]
        }
      ]
    },
    {
      "cell_type": "code",
      "source": [
        "print(test_data.describe())"
      ],
      "metadata": {
        "colab": {
          "base_uri": "https://localhost:8080/"
        },
        "id": "llZ3lrnDW5x4",
        "outputId": "bee5f92b-cac1-4df8-b574-4c863ba47b4b"
      },
      "execution_count": null,
      "outputs": [
        {
          "output_type": "stream",
          "name": "stdout",
          "text": [
            "               LAT          LON  Precipitation          LST          AAI  \\\n",
            "count  6576.000000  6576.000000    6576.000000  3595.000000  5708.000000   \n",
            "mean     45.363205    10.489789       2.544018   299.394019    -1.273390   \n",
            "std       0.260667     1.306469       7.475326    11.034047     0.691949   \n",
            "min      45.131947     8.842165       0.000000   254.720000    -3.716866   \n",
            "25%      45.151743     9.146666       0.000000   291.040000    -1.753032   \n",
            "50%      45.237853    10.398575       0.000000   300.900000    -1.363993   \n",
            "75%      45.582894    11.642394       0.000000   308.120000    -0.876478   \n",
            "max      45.836941    12.510362     103.227943   324.140000     2.474583   \n",
            "\n",
            "       CloudFraction    NO2_strat    NO2_total     NO2_trop  \\\n",
            "count    5708.000000  5708.000000  5708.000000  3998.000000   \n",
            "mean        0.203512     0.000045     0.000135     0.000081   \n",
            "std         0.269866     0.000012     0.000084     0.000067   \n",
            "min         0.000000     0.000013     0.000006    -0.000009   \n",
            "25%         0.013360     0.000034     0.000094     0.000041   \n",
            "50%         0.070884     0.000047     0.000111     0.000058   \n",
            "75%         0.296377     0.000056     0.000144     0.000097   \n",
            "max         1.000000     0.000072     0.001454     0.000960   \n",
            "\n",
            "       TropopausePressure  \n",
            "count         5708.000000  \n",
            "mean         16673.339355  \n",
            "std           3007.160286  \n",
            "min           8614.512125  \n",
            "25%          14433.046735  \n",
            "50%          16714.003425  \n",
            "75%          19260.483658  \n",
            "max          24424.343390  \n"
          ]
        }
      ]
    },
    {
      "cell_type": "code",
      "source": [
        "# !pip install pysal\n",
        "import geopandas as gpd\n",
        "from pysal.lib import weights\n",
        "from pysal.model import spreg\n",
        "from sklearn.impute import SimpleImputer\n",
        "import numpy as np\n",
        "\n",
        "# Function to process and impute data\n",
        "def impute_spatial_data(data, required_columns, k_neighbors=10):\n",
        "    # Ensure all required columns exist in the DataFrame\n",
        "    for col in required_columns:\n",
        "        if col not in data.columns:\n",
        "            data[col] = np.nan\n",
        "\n",
        "    # Convert the DataFrame to a GeoDataFrame\n",
        "    gdf = gpd.GeoDataFrame(data, geometry=gpd.points_from_xy(data.LON, data.LAT))\n",
        "\n",
        "    # Drop rows with missing 'LAT' or 'LON' as spatial weights cannot be calculated without coordinates\n",
        "    gdf = gdf.dropna(subset=['LAT', 'LON'])\n",
        "\n",
        "    # Create a spatial weights matrix based on k-nearest neighbors\n",
        "    knn_weights = weights.KNN.from_dataframe(gdf, k=k_neighbors)\n",
        "\n",
        "    # Fill missing values with initial guesses using SimpleImputer (mean strategy)\n",
        "    imputer = SimpleImputer(strategy='mean')\n",
        "    available_features = [col for col in required_columns if col in gdf.columns]\n",
        "    gdf[available_features] = imputer.fit_transform(gdf[available_features])\n",
        "\n",
        "    # Spatial Lag Model to handle remaining missing values\n",
        "    for col in available_features:\n",
        "        if gdf[col].isnull().sum() > 0:\n",
        "            # Define the dependent variable (target) and independent variables (features)\n",
        "            y = gdf[col].values.reshape(-1, 1)\n",
        "            X = gdf.drop(columns=[col, 'ID_Zindi', 'Date', 'ID', 'LAT', 'LON', 'geometry']).values\n",
        "\n",
        "            # Fit the Spatial Lag Model\n",
        "            model = spreg.ML_Lag(y, X, w=knn_weights, name_y=col, name_x=gdf.columns.drop([col, 'ID_Zindi', 'Date', 'ID', 'LAT', 'LON', 'geometry']).tolist())\n",
        "\n",
        "            # Predict missing values\n",
        "            predicted_values = model.predy.reshape(-1)\n",
        "\n",
        "            # Replace missing values with predicted ones\n",
        "            gdf.loc[gdf[col].isnull(), col] = predicted_values[gdf[col].isnull()]\n",
        "\n",
        "    # Drop the geometry column and return the imputed data\n",
        "    return gdf.drop(columns=['geometry'])\n",
        "\n",
        "# Define required columns for train and test data\n",
        "train_required_columns = ['LST', 'NO2_trop', 'AAI', 'CloudFraction', 'NO2_strat', 'NO2_total', 'TropopausePressure', 'GT_NO2']\n",
        "test_required_columns = ['LST', 'NO2_trop', 'AAI', 'CloudFraction', 'NO2_strat', 'NO2_total', 'TropopausePressure']  # Excludes 'GT_NO2'\n",
        "\n",
        "# Process and impute the training data\n",
        "train_data = impute_spatial_data(train_data, train_required_columns)\n",
        "\n",
        "# Process and impute the test data\n",
        "test_data = impute_spatial_data(test_data, test_required_columns)\n",
        "\n",
        "# # Save the imputed DataFrames\n",
        "# train_data.to_csv(path + 'Train_Imputed.csv', index=False)\n",
        "# test_data.to_csv(path + 'Test_Imputed.csv', index=False)\n",
        "\n",
        "# Check for any remaining missing values in the datasets\n",
        "print(\"Training data missing values summary:\")\n",
        "print(train_data.isnull().sum()[train_data.isnull().sum() > 0])\n",
        "\n",
        "print(\"Test data missing values summary:\")\n",
        "print(test_data.isnull().sum()[test_data.isnull().sum() > 0])\n"
      ],
      "metadata": {
        "colab": {
          "base_uri": "https://localhost:8080/"
        },
        "id": "Lf64oSNZXh0w",
        "outputId": "e3a64b41-1f09-4cd2-876c-5742283662d8"
      },
      "execution_count": null,
      "outputs": [
        {
          "output_type": "stream",
          "name": "stdout",
          "text": [
            "Collecting pysal\n",
            "  Downloading pysal-24.7-py3-none-any.whl.metadata (16 kB)\n",
            "Requirement already satisfied: beautifulsoup4>=4.10 in /usr/local/lib/python3.10/dist-packages (from pysal) (4.12.3)\n",
            "Requirement already satisfied: geopandas>=0.10.0 in /usr/local/lib/python3.10/dist-packages (from pysal) (0.14.4)\n",
            "Requirement already satisfied: numpy>=1.22 in /usr/local/lib/python3.10/dist-packages (from pysal) (1.26.4)\n",
            "Requirement already satisfied: packaging>=22 in /usr/local/lib/python3.10/dist-packages (from pysal) (24.1)\n",
            "Requirement already satisfied: pandas>=1.4 in /usr/local/lib/python3.10/dist-packages (from pysal) (2.1.4)\n",
            "Requirement already satisfied: platformdirs>=2.0.2 in /usr/local/lib/python3.10/dist-packages (from pysal) (4.2.2)\n",
            "Requirement already satisfied: requests>=2.27 in /usr/local/lib/python3.10/dist-packages (from pysal) (2.32.3)\n",
            "Requirement already satisfied: scipy>=1.8 in /usr/local/lib/python3.10/dist-packages (from pysal) (1.13.1)\n",
            "Requirement already satisfied: shapely>=2.0.1 in /usr/local/lib/python3.10/dist-packages (from pysal) (2.0.5)\n",
            "Requirement already satisfied: scikit-learn>=1.1 in /usr/local/lib/python3.10/dist-packages (from pysal) (1.3.2)\n",
            "Collecting libpysal>=4.12.0 (from pysal)\n",
            "  Downloading libpysal-4.12.0-py3-none-any.whl.metadata (4.8 kB)\n",
            "Collecting access>=1.1.9 (from pysal)\n",
            "  Downloading access-1.1.9-py3-none-any.whl.metadata (2.4 kB)\n",
            "Collecting esda>=2.6.0 (from pysal)\n",
            "  Downloading esda-2.6.0-py3-none-any.whl.metadata (2.0 kB)\n",
            "Collecting giddy>=2.3.5 (from pysal)\n",
            "  Downloading giddy-2.3.5-py3-none-any.whl.metadata (6.4 kB)\n",
            "Collecting inequality>=1.0.1 (from pysal)\n",
            "  Downloading inequality-1.0.1-py3-none-any.whl.metadata (3.3 kB)\n",
            "Collecting pointpats>=2.5.0 (from pysal)\n",
            "  Downloading pointpats-2.5.0-py3-none-any.whl.metadata (4.7 kB)\n",
            "Collecting segregation>=2.5 (from pysal)\n",
            "  Downloading segregation-2.5-py3-none-any.whl.metadata (2.2 kB)\n",
            "Collecting spaghetti>=1.7.6 (from pysal)\n",
            "  Downloading spaghetti-1.7.6-py3-none-any.whl.metadata (12 kB)\n",
            "Collecting mgwr>=2.2.1 (from pysal)\n",
            "  Downloading mgwr-2.2.1-py3-none-any.whl.metadata (1.5 kB)\n",
            "Collecting momepy>=0.7.2 (from pysal)\n",
            "  Downloading momepy-0.8.0-py3-none-any.whl.metadata (1.4 kB)\n",
            "Collecting spglm>=1.1.0 (from pysal)\n",
            "  Downloading spglm-1.1.0-py3-none-any.whl.metadata (3.9 kB)\n",
            "Collecting spint>=1.0.7 (from pysal)\n",
            "  Downloading spint-1.0.7.tar.gz (28 kB)\n",
            "  Preparing metadata (setup.py) ... \u001b[?25l\u001b[?25hdone\n",
            "Collecting spreg>=1.5.0 (from pysal)\n",
            "  Downloading spreg-1.6.0-py3-none-any.whl.metadata (1.7 kB)\n",
            "Collecting spvcm>=0.3.0 (from pysal)\n",
            "  Downloading spvcm-0.3.0.tar.gz (5.7 MB)\n",
            "\u001b[2K     \u001b[90m━━━━━━━━━━━━━━━━━━━━━━━━━━━━━━━━━━━━━━━━\u001b[0m \u001b[32m5.7/5.7 MB\u001b[0m \u001b[31m5.7 MB/s\u001b[0m eta \u001b[36m0:00:00\u001b[0m\n",
            "\u001b[?25h  Preparing metadata (setup.py) ... \u001b[?25l\u001b[?25hdone\n",
            "Collecting tobler>=0.11.2 (from pysal)\n",
            "  Downloading tobler-0.11.3-py3-none-any.whl.metadata (1.9 kB)\n",
            "Collecting mapclassify>=2.7.0 (from pysal)\n",
            "  Downloading mapclassify-2.8.0-py3-none-any.whl.metadata (2.8 kB)\n",
            "Collecting splot>=1.1.5.post1 (from pysal)\n",
            "  Downloading splot-1.1.6-py3-none-any.whl.metadata (9.0 kB)\n",
            "Collecting spopt>=0.6.1 (from pysal)\n",
            "  Downloading spopt-0.6.1-py3-none-any.whl.metadata (10 kB)\n",
            "Requirement already satisfied: soupsieve>1.2 in /usr/local/lib/python3.10/dist-packages (from beautifulsoup4>=4.10->pysal) (2.5)\n",
            "Requirement already satisfied: fiona>=1.8.21 in /usr/local/lib/python3.10/dist-packages (from geopandas>=0.10.0->pysal) (1.9.6)\n",
            "Requirement already satisfied: pyproj>=3.3.0 in /usr/local/lib/python3.10/dist-packages (from geopandas>=0.10.0->pysal) (3.6.1)\n",
            "Collecting quantecon>=0.4.7 (from giddy>=2.3.5->pysal)\n",
            "  Downloading quantecon-0.7.2-py3-none-any.whl.metadata (4.9 kB)\n",
            "Requirement already satisfied: networkx>=2.7 in /usr/local/lib/python3.10/dist-packages (from mapclassify>=2.7.0->pysal) (3.3)\n",
            "Requirement already satisfied: tqdm>=4.63.0 in /usr/local/lib/python3.10/dist-packages (from momepy>=0.7.2->pysal) (4.66.5)\n",
            "Requirement already satisfied: python-dateutil>=2.8.2 in /usr/local/lib/python3.10/dist-packages (from pandas>=1.4->pysal) (2.8.2)\n",
            "Requirement already satisfied: pytz>=2020.1 in /usr/local/lib/python3.10/dist-packages (from pandas>=1.4->pysal) (2024.1)\n",
            "Requirement already satisfied: tzdata>=2022.1 in /usr/local/lib/python3.10/dist-packages (from pandas>=1.4->pysal) (2024.1)\n",
            "Requirement already satisfied: matplotlib>=3.6 in /usr/local/lib/python3.10/dist-packages (from pointpats>=2.5.0->pysal) (3.7.1)\n",
            "Requirement already satisfied: charset-normalizer<4,>=2 in /usr/local/lib/python3.10/dist-packages (from requests>=2.27->pysal) (3.3.2)\n",
            "Requirement already satisfied: idna<4,>=2.5 in /usr/local/lib/python3.10/dist-packages (from requests>=2.27->pysal) (3.7)\n",
            "Requirement already satisfied: urllib3<3,>=1.21.1 in /usr/local/lib/python3.10/dist-packages (from requests>=2.27->pysal) (2.0.7)\n",
            "Requirement already satisfied: certifi>=2017.4.17 in /usr/local/lib/python3.10/dist-packages (from requests>=2.27->pysal) (2024.7.4)\n",
            "Requirement already satisfied: joblib>=1.1.1 in /usr/local/lib/python3.10/dist-packages (from scikit-learn>=1.1->pysal) (1.4.2)\n",
            "Requirement already satisfied: threadpoolctl>=2.0.0 in /usr/local/lib/python3.10/dist-packages (from scikit-learn>=1.1->pysal) (3.5.0)\n",
            "Collecting deprecation (from segregation>=2.5->pysal)\n",
            "  Downloading deprecation-2.1.0-py2.py3-none-any.whl.metadata (4.6 kB)\n",
            "Requirement already satisfied: seaborn in /usr/local/lib/python3.10/dist-packages (from segregation>=2.5->pysal) (0.13.1)\n",
            "Requirement already satisfied: numba in /usr/local/lib/python3.10/dist-packages (from segregation>=2.5->pysal) (0.60.0)\n",
            "Collecting rtree>=1.0 (from spaghetti>=1.7.6->pysal)\n",
            "  Downloading Rtree-1.3.0-py3-none-manylinux2014_x86_64.manylinux_2_17_x86_64.whl.metadata (2.1 kB)\n",
            "Collecting pulp>=2.7 (from spopt>=0.6.1->pysal)\n",
            "  Downloading PuLP-2.9.0-py3-none-any.whl.metadata (5.4 kB)\n",
            "Collecting rasterio (from tobler>=0.11.2->pysal)\n",
            "  Downloading rasterio-1.3.10-cp310-cp310-manylinux2014_x86_64.whl.metadata (14 kB)\n",
            "Requirement already satisfied: statsmodels in /usr/local/lib/python3.10/dist-packages (from tobler>=0.11.2->pysal) (0.14.2)\n",
            "Collecting rasterstats (from tobler>=0.11.2->pysal)\n",
            "  Downloading rasterstats-0.19.0-py3-none-any.whl.metadata (4.1 kB)\n",
            "Requirement already satisfied: attrs>=19.2.0 in /usr/local/lib/python3.10/dist-packages (from fiona>=1.8.21->geopandas>=0.10.0->pysal) (24.2.0)\n",
            "Requirement already satisfied: click~=8.0 in /usr/local/lib/python3.10/dist-packages (from fiona>=1.8.21->geopandas>=0.10.0->pysal) (8.1.7)\n",
            "Requirement already satisfied: click-plugins>=1.0 in /usr/local/lib/python3.10/dist-packages (from fiona>=1.8.21->geopandas>=0.10.0->pysal) (1.1.1)\n",
            "Requirement already satisfied: cligj>=0.5 in /usr/local/lib/python3.10/dist-packages (from fiona>=1.8.21->geopandas>=0.10.0->pysal) (0.7.2)\n",
            "Requirement already satisfied: six in /usr/local/lib/python3.10/dist-packages (from fiona>=1.8.21->geopandas>=0.10.0->pysal) (1.16.0)\n",
            "Requirement already satisfied: contourpy>=1.0.1 in /usr/local/lib/python3.10/dist-packages (from matplotlib>=3.6->pointpats>=2.5.0->pysal) (1.2.1)\n",
            "Requirement already satisfied: cycler>=0.10 in /usr/local/lib/python3.10/dist-packages (from matplotlib>=3.6->pointpats>=2.5.0->pysal) (0.12.1)\n",
            "Requirement already satisfied: fonttools>=4.22.0 in /usr/local/lib/python3.10/dist-packages (from matplotlib>=3.6->pointpats>=2.5.0->pysal) (4.53.1)\n",
            "Requirement already satisfied: kiwisolver>=1.0.1 in /usr/local/lib/python3.10/dist-packages (from matplotlib>=3.6->pointpats>=2.5.0->pysal) (1.4.5)\n",
            "Requirement already satisfied: pillow>=6.2.0 in /usr/local/lib/python3.10/dist-packages (from matplotlib>=3.6->pointpats>=2.5.0->pysal) (9.4.0)\n",
            "Requirement already satisfied: pyparsing>=2.3.1 in /usr/local/lib/python3.10/dist-packages (from matplotlib>=3.6->pointpats>=2.5.0->pysal) (3.1.2)\n",
            "Requirement already satisfied: sympy in /usr/local/lib/python3.10/dist-packages (from quantecon>=0.4.7->giddy>=2.3.5->pysal) (1.13.1)\n",
            "Requirement already satisfied: llvmlite<0.44,>=0.43.0dev0 in /usr/local/lib/python3.10/dist-packages (from numba->segregation>=2.5->pysal) (0.43.0)\n",
            "Collecting affine (from rasterio->tobler>=0.11.2->pysal)\n",
            "  Downloading affine-2.4.0-py3-none-any.whl.metadata (4.0 kB)\n",
            "Collecting snuggs>=1.4.1 (from rasterio->tobler>=0.11.2->pysal)\n",
            "  Downloading snuggs-1.4.7-py3-none-any.whl.metadata (3.4 kB)\n",
            "Requirement already satisfied: setuptools in /usr/local/lib/python3.10/dist-packages (from rasterio->tobler>=0.11.2->pysal) (71.0.4)\n",
            "Collecting simplejson (from rasterstats->tobler>=0.11.2->pysal)\n",
            "  Downloading simplejson-3.19.3-cp310-cp310-manylinux_2_5_x86_64.manylinux1_x86_64.manylinux_2_17_x86_64.manylinux2014_x86_64.whl.metadata (3.2 kB)\n",
            "Requirement already satisfied: patsy>=0.5.6 in /usr/local/lib/python3.10/dist-packages (from statsmodels->tobler>=0.11.2->pysal) (0.5.6)\n",
            "Requirement already satisfied: mpmath<1.4,>=1.1.0 in /usr/local/lib/python3.10/dist-packages (from sympy->quantecon>=0.4.7->giddy>=2.3.5->pysal) (1.3.0)\n",
            "Downloading pysal-24.7-py3-none-any.whl (17 kB)\n",
            "Downloading access-1.1.9-py3-none-any.whl (21 kB)\n",
            "Downloading esda-2.6.0-py3-none-any.whl (135 kB)\n",
            "\u001b[2K   \u001b[90m━━━━━━━━━━━━━━━━━━━━━━━━━━━━━━━━━━━━━━━━\u001b[0m \u001b[32m135.4/135.4 kB\u001b[0m \u001b[31m8.3 MB/s\u001b[0m eta \u001b[36m0:00:00\u001b[0m\n",
            "\u001b[?25hDownloading giddy-2.3.5-py3-none-any.whl (61 kB)\n",
            "\u001b[2K   \u001b[90m━━━━━━━━━━━━━━━━━━━━━━━━━━━━━━━━━━━━━━━━\u001b[0m \u001b[32m61.1/61.1 kB\u001b[0m \u001b[31m4.2 MB/s\u001b[0m eta \u001b[36m0:00:00\u001b[0m\n",
            "\u001b[?25hDownloading inequality-1.0.1-py3-none-any.whl (15 kB)\n",
            "Downloading libpysal-4.12.0-py3-none-any.whl (2.8 MB)\n",
            "\u001b[2K   \u001b[90m━━━━━━━━━━━━━━━━━━━━━━━━━━━━━━━━━━━━━━━━\u001b[0m \u001b[32m2.8/2.8 MB\u001b[0m \u001b[31m43.1 MB/s\u001b[0m eta \u001b[36m0:00:00\u001b[0m\n",
            "\u001b[?25hDownloading mapclassify-2.8.0-py3-none-any.whl (58 kB)\n",
            "\u001b[2K   \u001b[90m━━━━━━━━━━━━━━━━━━━━━━━━━━━━━━━━━━━━━━━━\u001b[0m \u001b[32m58.9/58.9 kB\u001b[0m \u001b[31m4.1 MB/s\u001b[0m eta \u001b[36m0:00:00\u001b[0m\n",
            "\u001b[?25hDownloading mgwr-2.2.1-py3-none-any.whl (47 kB)\n",
            "\u001b[2K   \u001b[90m━━━━━━━━━━━━━━━━━━━━━━━━━━━━━━━━━━━━━━━━\u001b[0m \u001b[32m47.9/47.9 kB\u001b[0m \u001b[31m2.8 MB/s\u001b[0m eta \u001b[36m0:00:00\u001b[0m\n",
            "\u001b[?25hDownloading momepy-0.8.0-py3-none-any.whl (347 kB)\n",
            "\u001b[2K   \u001b[90m━━━━━━━━━━━━━━━━━━━━━━━━━━━━━━━━━━━━━━━━\u001b[0m \u001b[32m347.3/347.3 kB\u001b[0m \u001b[31m18.2 MB/s\u001b[0m eta \u001b[36m0:00:00\u001b[0m\n",
            "\u001b[?25hDownloading pointpats-2.5.0-py3-none-any.whl (59 kB)\n",
            "\u001b[2K   \u001b[90m━━━━━━━━━━━━━━━━━━━━━━━━━━━━━━━━━━━━━━━━\u001b[0m \u001b[32m59.0/59.0 kB\u001b[0m \u001b[31m3.5 MB/s\u001b[0m eta \u001b[36m0:00:00\u001b[0m\n",
            "\u001b[?25hDownloading segregation-2.5-py3-none-any.whl (141 kB)\n",
            "\u001b[2K   \u001b[90m━━━━━━━━━━━━━━━━━━━━━━━━━━━━━━━━━━━━━━━━\u001b[0m \u001b[32m141.3/141.3 kB\u001b[0m \u001b[31m7.7 MB/s\u001b[0m eta \u001b[36m0:00:00\u001b[0m\n",
            "\u001b[?25hDownloading spaghetti-1.7.6-py3-none-any.whl (53 kB)\n",
            "\u001b[2K   \u001b[90m━━━━━━━━━━━━━━━━━━━━━━━━━━━━━━━━━━━━━━━━\u001b[0m \u001b[32m53.9/53.9 kB\u001b[0m \u001b[31m3.8 MB/s\u001b[0m eta \u001b[36m0:00:00\u001b[0m\n",
            "\u001b[?25hDownloading spglm-1.1.0-py3-none-any.whl (41 kB)\n",
            "\u001b[2K   \u001b[90m━━━━━━━━━━━━━━━━━━━━━━━━━━━━━━━━━━━━━━━━\u001b[0m \u001b[32m41.4/41.4 kB\u001b[0m \u001b[31m1.9 MB/s\u001b[0m eta \u001b[36m0:00:00\u001b[0m\n",
            "\u001b[?25hDownloading splot-1.1.6-py3-none-any.whl (39 kB)\n",
            "Downloading spopt-0.6.1-py3-none-any.whl (243 kB)\n",
            "\u001b[2K   \u001b[90m━━━━━━━━━━━━━━━━━━━━━━━━━━━━━━━━━━━━━━━━\u001b[0m \u001b[32m243.1/243.1 kB\u001b[0m \u001b[31m15.4 MB/s\u001b[0m eta \u001b[36m0:00:00\u001b[0m\n",
            "\u001b[?25hDownloading spreg-1.6.0-py3-none-any.whl (357 kB)\n",
            "\u001b[2K   \u001b[90m━━━━━━━━━━━━━━━━━━━━━━━━━━━━━━━━━━━━━━━━\u001b[0m \u001b[32m357.0/357.0 kB\u001b[0m \u001b[31m19.3 MB/s\u001b[0m eta \u001b[36m0:00:00\u001b[0m\n",
            "\u001b[?25hDownloading tobler-0.11.3-py3-none-any.whl (28 kB)\n",
            "Downloading PuLP-2.9.0-py3-none-any.whl (17.7 MB)\n",
            "\u001b[2K   \u001b[90m━━━━━━━━━━━━━━━━━━━━━━━━━━━━━━━━━━━━━━━━\u001b[0m \u001b[32m17.7/17.7 MB\u001b[0m \u001b[31m44.1 MB/s\u001b[0m eta \u001b[36m0:00:00\u001b[0m\n",
            "\u001b[?25hDownloading quantecon-0.7.2-py3-none-any.whl (215 kB)\n",
            "\u001b[2K   \u001b[90m━━━━━━━━━━━━━━━━━━━━━━━━━━━━━━━━━━━━━━━━\u001b[0m \u001b[32m215.4/215.4 kB\u001b[0m \u001b[31m12.9 MB/s\u001b[0m eta \u001b[36m0:00:00\u001b[0m\n",
            "\u001b[?25hDownloading Rtree-1.3.0-py3-none-manylinux2014_x86_64.manylinux_2_17_x86_64.whl (543 kB)\n",
            "\u001b[2K   \u001b[90m━━━━━━━━━━━━━━━━━━━━━━━━━━━━━━━━━━━━━━━━\u001b[0m \u001b[32m543.2/543.2 kB\u001b[0m \u001b[31m28.1 MB/s\u001b[0m eta \u001b[36m0:00:00\u001b[0m\n",
            "\u001b[?25hDownloading deprecation-2.1.0-py2.py3-none-any.whl (11 kB)\n",
            "Downloading rasterio-1.3.10-cp310-cp310-manylinux2014_x86_64.whl (21.5 MB)\n",
            "\u001b[2K   \u001b[90m━━━━━━━━━━━━━━━━━━━━━━━━━━━━━━━━━━━━━━━━\u001b[0m \u001b[32m21.5/21.5 MB\u001b[0m \u001b[31m38.5 MB/s\u001b[0m eta \u001b[36m0:00:00\u001b[0m\n",
            "\u001b[?25hDownloading rasterstats-0.19.0-py3-none-any.whl (16 kB)\n",
            "Downloading snuggs-1.4.7-py3-none-any.whl (5.4 kB)\n",
            "Downloading affine-2.4.0-py3-none-any.whl (15 kB)\n",
            "Downloading simplejson-3.19.3-cp310-cp310-manylinux_2_5_x86_64.manylinux1_x86_64.manylinux_2_17_x86_64.manylinux2014_x86_64.whl (137 kB)\n",
            "\u001b[2K   \u001b[90m━━━━━━━━━━━━━━━━━━━━━━━━━━━━━━━━━━━━━━━━\u001b[0m \u001b[32m137.9/137.9 kB\u001b[0m \u001b[31m9.8 MB/s\u001b[0m eta \u001b[36m0:00:00\u001b[0m\n",
            "\u001b[?25hBuilding wheels for collected packages: spint, spvcm\n",
            "  Building wheel for spint (setup.py) ... \u001b[?25l\u001b[?25hdone\n",
            "  Created wheel for spint: filename=spint-1.0.7-py3-none-any.whl size=31355 sha256=814c62e44955d7065892c9f5329ea8352e30ec4701911c4791a965920d05a703\n",
            "  Stored in directory: /root/.cache/pip/wheels/f6/1d/ab/81b0c9d17a778a97ec078147cb11901afdab420c4894dcfbc5\n",
            "  Building wheel for spvcm (setup.py) ... \u001b[?25l\u001b[?25hdone\n",
            "  Created wheel for spvcm: filename=spvcm-0.3.0-py3-none-any.whl size=5777184 sha256=765a2049768452e17fca2c7ed648a250cbc4b527fabb2b9fc795b2e58f6e554c\n",
            "  Stored in directory: /root/.cache/pip/wheels/1c/58/6f/debcb62c0a142a6615a65f23217209b543b478d309edfa4e2b\n",
            "Successfully built spint spvcm\n",
            "Installing collected packages: snuggs, simplejson, rtree, pulp, deprecation, affine, rasterio, quantecon, rasterstats, mapclassify, libpysal, access, tobler, spreg, segregation, pointpats, momepy, inequality, esda, spvcm, spglm, spaghetti, giddy, spopt, splot, spint, mgwr, pysal\n",
            "Successfully installed access-1.1.9 affine-2.4.0 deprecation-2.1.0 esda-2.6.0 giddy-2.3.5 inequality-1.0.1 libpysal-4.12.0 mapclassify-2.8.0 mgwr-2.2.1 momepy-0.8.0 pointpats-2.5.0 pulp-2.9.0 pysal-24.7 quantecon-0.7.2 rasterio-1.3.10 rasterstats-0.19.0 rtree-1.3.0 segregation-2.5 simplejson-3.19.3 snuggs-1.4.7 spaghetti-1.7.6 spglm-1.1.0 spint-1.0.7 splot-1.1.6 spopt-0.6.1 spreg-1.6.0 spvcm-0.3.0 tobler-0.11.3\n"
          ]
        },
        {
          "output_type": "stream",
          "name": "stderr",
          "text": [
            "/usr/local/lib/python3.10/dist-packages/libpysal/weights/distance.py:153: UserWarning: The weights matrix is not fully connected: \n",
            " There are 79 disconnected components.\n",
            "  W.__init__(self, neighbors, id_order=ids, **kwargs)\n"
          ]
        },
        {
          "output_type": "stream",
          "name": "stdout",
          "text": [
            "Training data missing values summary:\n",
            "Series([], dtype: int64)\n",
            "Test data missing values summary:\n",
            "Series([], dtype: int64)\n"
          ]
        },
        {
          "output_type": "stream",
          "name": "stderr",
          "text": [
            "/usr/local/lib/python3.10/dist-packages/libpysal/weights/distance.py:153: UserWarning: The weights matrix is not fully connected: \n",
            " There are 6 disconnected components.\n",
            "  W.__init__(self, neighbors, id_order=ids, **kwargs)\n"
          ]
        }
      ]
    },
    {
      "cell_type": "code",
      "source": [
        "# Convert 'Date' column to datetime and extract temporal features\n",
        "train_data['Date'] = pd.to_datetime(train_data['Date'])\n",
        "test_data['Date'] = pd.to_datetime(test_data['Date'])\n",
        "train_data['Month'] = train_data['Date'].dt.month\n",
        "test_data['Month'] = test_data['Date'].dt.month\n",
        "train_data['DayOfWeek'] = train_data['Date'].dt.dayofweek\n",
        "test_data['DayOfWeek'] = test_data['Date'].dt.dayofweek\n",
        "train_data['Season'] = train_data['Month'].apply(lambda x: (x%12 + 3)//3)\n",
        "test_data['Season'] = test_data['Month'].apply(lambda x: (x%12 + 3)//3)"
      ],
      "metadata": {
        "colab": {
          "base_uri": "https://localhost:8080/"
        },
        "id": "PjGd8TgQPyvG",
        "outputId": "226d14b5-b04b-40c0-cf9a-7306b3e6a005"
      },
      "execution_count": null,
      "outputs": [
        {
          "output_type": "stream",
          "name": "stderr",
          "text": [
            "<ipython-input-7-b6fba977caf5>:2: UserWarning: Could not infer format, so each element will be parsed individually, falling back to `dateutil`. To ensure parsing is consistent and as-expected, please specify a format.\n",
            "  train_data['Date'] = pd.to_datetime(train_data['Date'])\n",
            "<ipython-input-7-b6fba977caf5>:3: UserWarning: Could not infer format, so each element will be parsed individually, falling back to `dateutil`. To ensure parsing is consistent and as-expected, please specify a format.\n",
            "  test_data['Date'] = pd.to_datetime(test_data['Date'])\n"
          ]
        }
      ]
    },
    {
      "cell_type": "code",
      "source": [
        "# # Data preprocessing\n",
        "# # Handling missing values\n",
        "# from sklearn.impute import SimpleImputer\n",
        "# imputer = SimpleImputer(strategy='mean')  # Keep the imputer\n",
        "\n",
        "# # Impute missing values for all columns with missing data\n",
        "# for col in train_data.columns:\n",
        "#     if train_data[col].isnull().any():  # Check if column has missing values\n",
        "#         train_data[col] = imputer.fit_transform(train_data[[col]])\n",
        "#         # Only impute on columns that exist in test_data\n",
        "#         if col in test_data.columns:\n",
        "#             test_data[col] = imputer.transform(test_data[[col]])"
      ],
      "metadata": {
        "id": "pD3yjYz0PrwZ"
      },
      "execution_count": null,
      "outputs": []
    },
    {
      "cell_type": "code",
      "source": [
        "# Prepare the data for modeling\n",
        "X_train = train_data.drop(['ID_Zindi', 'Date', 'ID', 'GT_NO2'], axis=1)\n",
        "y_train = train_data['GT_NO2']\n",
        "X_test = test_data.drop(['ID_Zindi', 'Date', 'ID'], axis=1)\n",
        "\n",
        "# Split the dataset for training and validation\n",
        "X_train_split, X_val_split, y_train_split, y_val_split = train_test_split(X_train, y_train, test_size=0.2, random_state=42)\n"
      ],
      "metadata": {
        "id": "J_ckU5hgH8O0"
      },
      "execution_count": null,
      "outputs": []
    },
    {
      "cell_type": "code",
      "source": [
        "# Model development\n",
        "# Initialize and train XGBoost model\n",
        "xgb_model = xgb.XGBRegressor(objective='reg:squarederror', n_estimators=100, learning_rate=0.05, random_state=42)\n",
        "xgb_model.fit(X_train, y_train)\n",
        "\n",
        "# Initialize and train RandomForest model\n",
        "rf_model = RandomForestRegressor(n_estimators=100, random_state=42)\n",
        "rf_model.fit(X_train, y_train)\n",
        "\n",
        "# Predictions\n",
        "preds_xgb = xgb_model.predict(X_val_split)\n",
        "preds_rf = rf_model.predict(X_val_split)\n",
        "\n",
        "# Simple Averaging Ensemble\n",
        "ensemble_preds = 0.5 * preds_xgb + 0.5 * preds_rf\n",
        "\n",
        "# Evaluate the ensemble model\n",
        "rmse = np.sqrt(mean_squared_error(y_val_split, ensemble_preds))\n",
        "print('Ensemble RMSE:', rmse)\n",
        "\n",
        "# Predict on test data\n",
        "test_preds_xgb = xgb_model.predict(X_test)\n",
        "test_preds_rf = rf_model.predict(X_test)\n",
        "test_ensemble_preds = 0.5 * test_preds_xgb + 0.5 * test_preds_rf"
      ],
      "metadata": {
        "colab": {
          "base_uri": "https://localhost:8080/"
        },
        "id": "2pNzrSHuH4td",
        "outputId": "1c3bd037-c313-44b8-fed6-63fe885c658b"
      },
      "execution_count": null,
      "outputs": [
        {
          "output_type": "stream",
          "name": "stdout",
          "text": [
            "Ensemble RMSE: 6.398530868941271\n"
          ]
        }
      ]
    },
    {
      "cell_type": "code",
      "source": [
        "# Prepare the submission file with GT_NO2 rounded to two decimal places\n",
        "submission = pd.DataFrame({\n",
        "    'ID_Zindi': test_data['ID_Zindi'],\n",
        "    'GT_NO2': np.round(test_ensemble_preds, 2)\n",
        "})\n",
        "\n",
        "# Save the submission file\n",
        "submission.to_csv(path + 'submission_best_model.csv', index=False)\n",
        "print(submission)"
      ],
      "metadata": {
        "colab": {
          "base_uri": "https://localhost:8080/"
        },
        "id": "UneX_Ny6IEFy",
        "outputId": "8e7c388c-25e1-49f0-f4ad-4f54b168e8bb"
      },
      "execution_count": null,
      "outputs": [
        {
          "output_type": "stream",
          "name": "stdout",
          "text": [
            "       ID_Zindi  GT_NO2\n",
            "0     ID_2MYNQS   30.28\n",
            "1     ID_P4U5WU   35.95\n",
            "2     ID_U4KWPK   39.03\n",
            "3     ID_QGSNTZ   32.42\n",
            "4     ID_GHSZ6K   33.97\n",
            "...         ...     ...\n",
            "6571  ID_GUSXU9   40.16\n",
            "6572  ID_GMVEG1   36.93\n",
            "6573  ID_GD6HNP   17.25\n",
            "6574  ID_J7YW1Y   39.59\n",
            "6575  ID_I4E04N   31.16\n",
            "\n",
            "[6576 rows x 2 columns]\n"
          ]
        }
      ]
    }
  ]
}